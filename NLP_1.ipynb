{
 "cells": [
  {
   "cell_type": "markdown",
   "metadata": {},
   "source": [
    "# 임베딩\n",
    "## 단어를 벡터로 바꾸면 단어 벡터들 사이의 유사도를 계산할 수 있다. \"코사인 유사도\"\n",
    "\n",
    "코사인 유사도 시각화도 가능\n",
    "\n",
    "## 차원  축소 \n",
    "\n",
    "단어 벡터들을 2차원 시각화도 가능\n"
   ]
  }
 ],
 "metadata": {
  "kernelspec": {
   "display_name": "Python 3",
   "language": "python",
   "name": "python3"
  },
  "language_info": {
   "codemirror_mode": {
    "name": "ipython",
    "version": 3
   },
   "file_extension": ".py",
   "mimetype": "text/x-python",
   "name": "python",
   "nbconvert_exporter": "python",
   "pygments_lexer": "ipython3",
   "version": "3.7.4"
  }
 },
 "nbformat": 4,
 "nbformat_minor": 2
}

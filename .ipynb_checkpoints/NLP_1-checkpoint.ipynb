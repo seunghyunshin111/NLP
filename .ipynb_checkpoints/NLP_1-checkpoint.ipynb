{
 "cells": [
  {
   "cell_type": "markdown",
   "metadata": {},
   "source": [
    "## 한국어 임베딩_1장\n",
    "에이콘 출판사"
   ]
  },
  {
   "cell_type": "markdown",
   "metadata": {},
   "source": [
    "# 임베딩\n",
    "## 단어를 벡터로 바꾸면 단어 벡터들 사이의 유사도를 계산할 수 있다. \"코사인 유사도\"\n",
    "\n",
    "코사인 유사도 시각화도 가능\n",
    "\n",
    "## 차원  축소 \n",
    "\n",
    "단어 벡터들을 2차원 시각화도 가능\n"
   ]
  },
  {
   "cell_type": "markdown",
   "metadata": {},
   "source": [
    "한국어 임베딩 책에서 다루는 데이터의 최소 단위는 \"토큰\"\n",
    "\n",
    "### 문장: 토큰의 집합\n",
    "### 문서: 문장의 집합\n",
    "### 말뭉치: 문서의 집합\n",
    "### 토크나이즈: 문장을 토큰으로 분석하는 과정\n",
    "### 어휘 집합: 말뭉치에 있는 모든 문서를 문장으로 나누고 여기에 토크나이즈를 실시한 후, 중복을 제거한 \"토큰들의 집합\""
   ]
  }
 ],
 "metadata": {
  "kernelspec": {
   "display_name": "Python 3",
   "language": "python",
   "name": "python3"
  },
  "language_info": {
   "codemirror_mode": {
    "name": "ipython",
    "version": 3
   },
   "file_extension": ".py",
   "mimetype": "text/x-python",
   "name": "python",
   "nbconvert_exporter": "python",
   "pygments_lexer": "ipython3",
   "version": "3.7.4"
  }
 },
 "nbformat": 4,
 "nbformat_minor": 2
}

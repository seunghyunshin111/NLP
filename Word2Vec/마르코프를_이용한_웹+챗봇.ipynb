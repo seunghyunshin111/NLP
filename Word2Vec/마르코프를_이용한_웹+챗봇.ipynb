{
 "cells": [
  {
   "cell_type": "code",
   "execution_count": null,
   "metadata": {},
   "outputs": [],
   "source": [
    "#!/usr/bin/env python3\n",
    "import cgi\n",
    "from botengine import make_reply\n",
    "# 입력 양식의 글자 추출하기 --- (※1)\n",
    "form = cgi.FieldStorage()\n",
    "# 메인 처리 --- (※2)\n",
    "def main():\n",
    "    m = form.getvalue(\"m\", default=\"\")\n",
    "    if   m == \"\" : show_form()\n",
    "    elif m == \"say\" : api_say()\n",
    "# 사용자의 입력에 응답하기 --- (※3)\n",
    "def api_say():\n",
    "    print(\"Content-Type: text/plain; charset=euc-kr\")\n",
    "    print(\"\")\n",
    "    txt = form.getvalue(\"txt\", default=\"\")\n",
    "    if txt == \"\": return\n",
    "    res = make_reply(txt)\n",
    "    print(res)\n",
    "# 입력 양식 출력하기 --- (※4)\n",
    "def show_form():\n",
    "    print(\"Content-Type: text/html; charset=euc-kr\")\n",
    "    print(\"\")\n",
    "    print(\"\"\"\n",
    "    <html><meta charset=\"euc-kr\"><body>\n",
    "    <script src=\"https://code.jquery.com/jquery-3.1.1.min.js\"></script>\n",
    "    <style>\n",
    "        h1   { background-color: #ffe0e0; }\n",
    "        div  { padding:10px; }\n",
    "        span { border-radius: 10px; background-color: #ffe0e0; padding:8px; }\n",
    "        .bot { text-align: left; }\n",
    "        .usr { text-align: right; }\n",
    "    </style>\n",
    "    <h1>대화하기</h1>\n",
    "    <div id=\"chat\"></div>\n",
    "    <div class='usr'><input id=\"txt\" size=\"40\">\n",
    "    <button onclick=\"say()\">전송</button></div>\n",
    "    <script>\n",
    "    var url = \"./chatbot.py\";\n",
    "    function say() {\n",
    "      var txt = $('#txt').val();\n",
    "      $.get(url, {\"m\":\"say\",\"txt\":txt},\n",
    "        function(res) {\n",
    "          var html = \"<div class='usr'><span>\" + esc(txt) +\n",
    "            \"</span>: 나</div><div class='bot'> 봇:<span>\" + \n",
    "            esc(res) + \"</span></div>\";\n",
    "          $('#chat').html($('#chat').html()+html);\n",
    "          $('#txt').val('').focus();\n",
    "        });\n",
    "    }\n",
    "    function esc(s) {\n",
    "        return s.replace('&', '&amp;').replace('<','&lt;')\n",
    "                .replace('>', '&gt;');\n",
    "    }\n",
    "    </script></body></html>\n",
    "    \"\"\")\n",
    "main()"
   ]
  }
 ],
 "metadata": {
  "kernelspec": {
   "display_name": "Python 3",
   "language": "python",
   "name": "python3"
  },
  "language_info": {
   "codemirror_mode": {
    "name": "ipython",
    "version": 3
   },
   "file_extension": ".py",
   "mimetype": "text/x-python",
   "name": "python",
   "nbconvert_exporter": "python",
   "pygments_lexer": "ipython3",
   "version": "3.7.4"
  }
 },
 "nbformat": 4,
 "nbformat_minor": 2
}

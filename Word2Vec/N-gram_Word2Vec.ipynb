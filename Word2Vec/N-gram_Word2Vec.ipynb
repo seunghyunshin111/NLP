{
 "cells": [
  {
   "cell_type": "markdown",
   "metadata": {},
   "source": [
    "## N-gram: N개의 이웃한 문자\n",
    "    \n",
    "    a = \"오늘 강남에서 맛있는 스파게티를 먹었다.\"\n",
    "    b = \"강남에서 먹었던 오늘의 스파게티는 맛있었다.\"\n",
    "    \n",
    "    \n",
    "## 2-gram\n",
    "\n",
    "    a = '오늘', '늘 ', '강', '강남', '남에', '에서', '서 ' \n",
    "    b = '강남', '남에', '에서', '서 ', '먹었', '었던'\n",
    "#####  - 공백을 포함해서 2개까지!"
   ]
  },
  {
   "cell_type": "markdown",
   "metadata": {},
   "source": [
    "#### - 한국어는 3-gram보다는 '2-gram'이 훨씬 정확하다! <br>\n",
    "#### - 정확도가 나온다 해도 단순한 문자에 의한 표식의 비교일 뿐!! (의미에 의한 것이 X)"
   ]
  },
  {
   "cell_type": "code",
   "execution_count": 9,
   "metadata": {},
   "outputs": [],
   "source": [
    "def ngram(s, num):              # ngram 형식으로 list화!\n",
    "    res = []\n",
    "    slen = len(s) - num + 1\n",
    "    \n",
    "    for i in range(slen):\n",
    "        ss = s[i:i+num]\n",
    "        res.append(ss)\n",
    "    return res\n",
    "\n",
    "\n",
    "def diff_ngram(sa, sb, num):\n",
    "    a = ngram(sa, num) \n",
    "    b = ngram(sb, num)\n",
    "    r = []\n",
    "    cnt = 0\n",
    "    \n",
    "    for i in a:\n",
    "        for j in b:\n",
    "            if i == j:\n",
    "                cnt += 1    # cnt: count\n",
    "                r.append(i)\n",
    "    return (cnt / len(a), r)   # 괄호가 없어서 그렇지 '튜플'!!"
   ]
  },
  {
   "cell_type": "markdown",
   "metadata": {},
   "source": [
    "# 0 , 1 , 2 , 3 , 4 (num)\n",
    "# 안 녕 하 세 요 (s)\n",
    "\n",
    "안녕 0, 1 <br>\n",
    "안녕하 0, 1, 2 <br>\n",
    "안녕하세 0, 1, 2, 3 <br>\n",
    "안녕하세요 0, 1, 2, 3, 4"
   ]
  },
  {
   "cell_type": "markdown",
   "metadata": {},
   "source": [
    "내가 짠 함수식이 아닐 때,\n",
    "\n",
    "### {함수명, 인수, 결과값}을 파악하자!\n",
    "<br>\n",
    "<br>\n",
    "개발할 때, 단위별로 확인해야 에러를 찾을 수 있음.(모듈 단위{함수, 클래스 etc}로 확인!)\n",
    "\n",
    "가장 먼저 나온 return 값을 확인하기!\n",
    "\n",
    "테스팅은 반드시 해보기!"
   ]
  },
  {
   "cell_type": "code",
   "execution_count": 3,
   "metadata": {},
   "outputs": [
    {
     "name": "stdout",
     "output_type": "stream",
     "text": [
      "2-gram 0.7619047619047619 ['오늘', '강남', '남에', '에서', '서 ', ' 맛', '맛있', '는 ', ' 스', '스파', '파게', '게티', ' 먹', '먹었', '었다', '다.']\n",
      "3-gram 0.45 ['강남에', '남에서', '에서 ', ' 맛있', ' 스파', '스파게', '파게티', ' 먹었', '었다.']\n"
     ]
    }
   ],
   "source": [
    "a = \"오늘 강남에서 맛있는 스파게티를 먹었다.\"\n",
    "b = \"강남에서 먹었던 오늘의 스파게티는 맛있었다.\"\n",
    "\n",
    "# 2-gram\n",
    "r2, word2 = diff_ngram(a, b, 2)\n",
    "print(\"2-gram\", r2, word2)\n",
    "\n",
    "\n",
    "# 3-gram\n",
    "r3, word3 = diff_ngram(a, b, 3)\n",
    "print(\"3-gram\", r3, word3)            # 3글자가 일치하기는 상당히 어려워서 많이 안 나온다."
   ]
  },
  {
   "cell_type": "code",
   "execution_count": 4,
   "metadata": {},
   "outputs": [
    {
     "data": {
      "text/plain": [
       "(0.7619047619047619,\n",
       " ['오늘',\n",
       "  '강남',\n",
       "  '남에',\n",
       "  '에서',\n",
       "  '서 ',\n",
       "  ' 맛',\n",
       "  '맛있',\n",
       "  '는 ',\n",
       "  ' 스',\n",
       "  '스파',\n",
       "  '파게',\n",
       "  '게티',\n",
       "  ' 먹',\n",
       "  '먹었',\n",
       "  '었다',\n",
       "  '다.'])"
      ]
     },
     "execution_count": 4,
     "metadata": {},
     "output_type": "execute_result"
    }
   ],
   "source": [
    "a = \"오늘 강남에서 맛있는 스파게티를 먹었다.\"\n",
    "b = \"강남에서 먹었던 오늘의 스파게티는 맛있었다.\"\n",
    "\n",
    "diff_ngram(a, b, 2)"
   ]
  },
  {
   "cell_type": "code",
   "execution_count": 8,
   "metadata": {},
   "outputs": [
    {
     "data": {
      "text/plain": [
       "(0.6956521739130435,\n",
       " ['강남',\n",
       "  '남에',\n",
       "  '에서',\n",
       "  '서 ',\n",
       "  ' 먹',\n",
       "  '먹었',\n",
       "  '오늘',\n",
       "  ' 스',\n",
       "  '스파',\n",
       "  '파게',\n",
       "  '게티',\n",
       "  '는 ',\n",
       "  ' 맛',\n",
       "  '맛있',\n",
       "  '었다',\n",
       "  '다.'])"
      ]
     },
     "execution_count": 8,
     "metadata": {},
     "output_type": "execute_result"
    }
   ],
   "source": [
    "b = \"강남에서 먹었던 오늘의 스파게티는 맛있었다.\"\n",
    "\n",
    "diff_ngram(b, a, 2)"
   ]
  },
  {
   "cell_type": "markdown",
   "metadata": {},
   "source": [
    "## 연습해보기!"
   ]
  },
  {
   "cell_type": "code",
   "execution_count": 11,
   "metadata": {},
   "outputs": [],
   "source": [
    "# 연습해보기!\n",
    "\n",
    "def ngram(s, num):\n",
    "    res = []\n",
    "    slen = len(s) - num + 1     # 항상 값이 2가 나온다.\n",
    "    \n",
    "    for i in range(slen):\n",
    "        ss = s[i:i + num]       # slen 값이 하나씩 커짐, 문자열은 하나씩 이동!\n",
    "        res.append(ss)          # 빈 리스트에 ss 결과 값을 자꾸 붙임!\n",
    "    return res\n",
    "\n",
    "\n",
    "def niff_ngram(sa, sb, num):\n",
    "    a = ngram(sa, num)         # ngram한 a!\n",
    "    b = ngram(sb, num)\n",
    "    r = []\n",
    "    cnt = 0                    # count는 0에서부터 시작!\n",
    "    \n",
    "    for i in a:\n",
    "        for j in b:\n",
    "            if i == j:\n",
    "                cnt += 1\n",
    "                r.append(i)\n",
    "                \n",
    "    return (cnt / len(a), r)  "
   ]
  },
  {
   "cell_type": "code",
   "execution_count": 16,
   "metadata": {},
   "outputs": [
    {
     "name": "stdout",
     "output_type": "stream",
     "text": [
      "2-gram 0.3076923076923077 ['아침', '이 ', '이 ', '다.']\n"
     ]
    }
   ],
   "source": [
    "# a 기준!\n",
    "\n",
    "a = \"아침 햇살이 기분이 좋다.\"\n",
    "b = \"아침에는 맛있는 음식이 먹고 싶다.\"\n",
    "\n",
    "\n",
    "r2, word2 = diff_ngram(a, b, 2)\n",
    "print(\"2-gram\", r2, word2)\n"
   ]
  },
  {
   "cell_type": "code",
   "execution_count": null,
   "metadata": {},
   "outputs": [],
   "source": [
    "# b 기준!\n",
    "\n",
    "a = \"아침 햇살이 기분이 좋다.\"\n",
    "b = \"아침에는 맛있는 음식이 먹고 싶다.\"\n",
    "\n",
    "\n",
    "r2, word2 = diff_ngram(b, a, 2)\n",
    "print(\"2-gram\", r2, word2)"
   ]
  },
  {
   "cell_type": "code",
   "execution_count": 17,
   "metadata": {},
   "outputs": [
    {
     "name": "stdout",
     "output_type": "stream",
     "text": [
      "3-gram 0.16666666666666666 ['천하장', '하장사']\n"
     ]
    }
   ],
   "source": [
    "a = \"나는 천하장사를 좋아한다.\"\n",
    "b = \"천하장사는 참 맛있다.\"\n",
    "\n",
    "r3, word3 = diff_ngram(a, b, 3)\n",
    "print(\"3-gram\", r3, word3)"
   ]
  },
  {
   "cell_type": "markdown",
   "metadata": {},
   "source": [
    "## a, b 바꿔도 동일"
   ]
  },
  {
   "cell_type": "code",
   "execution_count": 21,
   "metadata": {},
   "outputs": [
    {
     "data": {
      "text/plain": [
       "(0.7857142857142857,\n",
       " ['오늘', '늘 ', '엔 ', ' 무', '무엇', '엇을', '을 ', ' 먹', '먹을', '을까', '까?'])"
      ]
     },
     "execution_count": 21,
     "metadata": {},
     "output_type": "execute_result"
    }
   ],
   "source": [
    "a = \"오늘 저녁엔 무엇을 먹을까?\"\n",
    "b = \"오늘 아침엔 무엇을 먹을까?\"\n",
    "\n",
    "diff_ngram(b, a, 2)"
   ]
  },
  {
   "cell_type": "code",
   "execution_count": 22,
   "metadata": {},
   "outputs": [
    {
     "data": {
      "text/plain": [
       "(0.7857142857142857,\n",
       " ['오늘', '늘 ', '엔 ', ' 무', '무엇', '엇을', '을 ', ' 먹', '먹을', '을까', '까?'])"
      ]
     },
     "execution_count": 22,
     "metadata": {},
     "output_type": "execute_result"
    }
   ],
   "source": [
    "a = \"오늘 저녁엔 무엇을 먹을까?\"\n",
    "b = \"오늘 아침엔 무엇을 먹을까?\"\n",
    "\n",
    "diff_ngram(a, b, 2)"
   ]
  }
 ],
 "metadata": {
  "kernelspec": {
   "display_name": "Python 3",
   "language": "python",
   "name": "python3"
  },
  "language_info": {
   "codemirror_mode": {
    "name": "ipython",
    "version": 3
   },
   "file_extension": ".py",
   "mimetype": "text/x-python",
   "name": "python",
   "nbconvert_exporter": "python",
   "pygments_lexer": "ipython3",
   "version": "3.7.4"
  }
 },
 "nbformat": 4,
 "nbformat_minor": 2
}
